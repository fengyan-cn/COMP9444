{
 "cells": [
  {
   "cell_type": "code",
   "execution_count": 43,
   "metadata": {},
   "outputs": [],
   "source": [
    "import torch\n",
    "import yaml"
   ]
  },
  {
   "cell_type": "code",
   "execution_count": 44,
   "metadata": {},
   "outputs": [],
   "source": [
    "with open(\"./sample.yaml\", \"r\") as file:\n",
    "    config = yaml.safe_load(file)"
   ]
  },
  {
   "cell_type": "code",
   "execution_count": 45,
   "metadata": {},
   "outputs": [
    {
     "data": {
      "text/plain": [
       "{'name': 'SimpleObjectDetectionModel',\n",
       " 'type': 'CNN',\n",
       " 'input_shape': [3, 224, 224],\n",
       " 'num_classes': 20,\n",
       " 'layers': [{'type': 'Conv2D',\n",
       "   'filters': 32,\n",
       "   'kernel_size': [3, 3],\n",
       "   'strides': [1, 1],\n",
       "   'padding': 'same',\n",
       "   'activation': 'ReLU'},\n",
       "  {'type': 'MaxPooling2D', 'pool_size': [2, 2], 'strides': [2, 2]},\n",
       "  {'type': 'Conv2D',\n",
       "   'filters': 64,\n",
       "   'kernel_size': [3, 3],\n",
       "   'strides': [1, 1],\n",
       "   'padding': 'same',\n",
       "   'activation': 'ReLU'},\n",
       "  {'type': 'MaxPooling2D', 'pool_size': [2, 2], 'strides': [2, 2]},\n",
       "  {'type': 'Conv2D',\n",
       "   'filters': 128,\n",
       "   'kernel_size': [3, 3],\n",
       "   'strides': [1, 1],\n",
       "   'padding': 'same',\n",
       "   'activation': 'ReLU'},\n",
       "  {'type': 'MaxPooling2D', 'pool_size': [2, 2], 'strides': [2, 2]},\n",
       "  {'type': 'Flatten'},\n",
       "  {'type': 'Dense', 'units': 512, 'activation': 'ReLU'},\n",
       "  {'type': 'Dropout', 'rate': 0.5},\n",
       "  {'type': 'Dense', 'units': 'num_classes', 'activation': 'Softmax'}]}"
      ]
     },
     "execution_count": 45,
     "metadata": {},
     "output_type": "execute_result"
    }
   ],
   "source": [
    "config['model']"
   ]
  },
  {
   "cell_type": "code",
   "execution_count": 46,
   "metadata": {},
   "outputs": [
    {
     "data": {
      "text/plain": [
       "'Conv2D'"
      ]
     },
     "execution_count": 46,
     "metadata": {},
     "output_type": "execute_result"
    }
   ],
   "source": [
    "config[\"model\"][\"layers\"][0][\"type\"]"
   ]
  },
  {
   "cell_type": "code",
   "execution_count": 63,
   "metadata": {},
   "outputs": [],
   "source": [
    "class sampleModel(torch.nn.Module):\n",
    "    def __init__(self):\n",
    "        super(sampleModel, self).__init__()\n",
    "        layers = []\n",
    "        input_shape = config[\"model\"][\"input_shape\"]\n",
    "        for layer_cfg in config[\"model\"][\"layers\"]:\n",
    "            if layer_cfg[\"type\"] == 'Conv2D':\n",
    "                layers.append(torch.nn.Conv2d(\n",
    "                    in_channels = input_shape[0],\n",
    "                    out_channels = layer_cfg[\"filters\"],\n",
    "                    kernel_size = tuple(layer_cfg[\"kernel_size\"]),\n",
    "                    stride= tuple(layer_cfg[\"strides\"]),\n",
    "                    padding= layer_cfg[\"padding\"])\n",
    "                    )\n",
    "                layers.append(getattr(torch.nn, layer_cfg[\"activation\"])())\n",
    "                input_shape[0] = layer_cfg[\"filters\"]\n",
    "            elif layer_cfg[\"type\"] == 'MaxPooling2D':\n",
    "                layers.append(torch.nn.MaxPool2d(\n",
    "                    kernel_size=tuple(layer_cfg[\"pool_size\"]),\n",
    "                    stride=tuple(layer_cfg[\"strides\"])\n",
    "                ))\n",
    "            elif layer_cfg[\"type\"] == \"Flatten\":\n",
    "                layers.append(torch.nn.Flatten())\n",
    "            elif layer_cfg[\"type\"] == \"Dense\":\n",
    "                if layer_cfg[\"units\"] == 'num_classes':\n",
    "                    layer_cfg[\"units\"] = config[\"model\"][\"num_classes\"]\n",
    "                layers.append(torch.nn.Linear(input_shape[0], layer_cfg[\"units\"]))\n",
    "                # print(layer_cfg[\"activation\"])\n",
    "                layers.append(getattr(torch.nn, layer_cfg[\"activation\"])())\n",
    "                input_shape[0] = layer_cfg[\"units\"]\n",
    "            elif layer_cfg[\"type\"] == \"Dropout\":\n",
    "                layers.append(torch.nn.Dropout(p=layer_cfg[\"rate\"]))\n",
    "        self.model = torch.nn.Sequential(*layers)\n",
    "\n",
    "    def forward(self, x):\n",
    "        return self.model(x)"
   ]
  },
  {
   "cell_type": "code",
   "execution_count": 64,
   "metadata": {},
   "outputs": [],
   "source": [
    "samplemodel = sampleModel()"
   ]
  },
  {
   "cell_type": "code",
   "execution_count": 62,
   "metadata": {},
   "outputs": [
    {
     "name": "stdout",
     "output_type": "stream",
     "text": [
      "0 Conv2d(3, 32, kernel_size=(3, 3), stride=(1, 1), padding=same)\n",
      "1 ReLU()\n",
      "2 MaxPool2d(kernel_size=(2, 2), stride=(2, 2), padding=0, dilation=1, ceil_mode=False)\n",
      "3 Conv2d(32, 64, kernel_size=(3, 3), stride=(1, 1), padding=same)\n",
      "4 ReLU()\n",
      "5 MaxPool2d(kernel_size=(2, 2), stride=(2, 2), padding=0, dilation=1, ceil_mode=False)\n",
      "6 Conv2d(64, 128, kernel_size=(3, 3), stride=(1, 1), padding=same)\n",
      "7 ReLU()\n",
      "8 MaxPool2d(kernel_size=(2, 2), stride=(2, 2), padding=0, dilation=1, ceil_mode=False)\n",
      "9 Flatten(start_dim=1, end_dim=-1)\n",
      "10 Linear(in_features=128, out_features=512, bias=True)\n",
      "11 ReLU()\n",
      "12 Dropout(p=0.5, inplace=False)\n",
      "13 Linear(in_features=512, out_features=20, bias=True)\n",
      "14 Softmax(dim=None)\n"
     ]
    }
   ],
   "source": [
    "for i , layer in enumerate(samplemodel.model.children()):\n",
    "    print(i ,layer)"
   ]
  }
 ],
 "metadata": {
  "kernelspec": {
   "display_name": "pytorch_comp9444",
   "language": "python",
   "name": "python3"
  },
  "language_info": {
   "codemirror_mode": {
    "name": "ipython",
    "version": 3
   },
   "file_extension": ".py",
   "mimetype": "text/x-python",
   "name": "python",
   "nbconvert_exporter": "python",
   "pygments_lexer": "ipython3",
   "version": "3.11.9"
  }
 },
 "nbformat": 4,
 "nbformat_minor": 2
}
